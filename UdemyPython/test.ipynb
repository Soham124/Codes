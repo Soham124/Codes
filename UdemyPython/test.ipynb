{
 "cells": [
  {
   "cell_type": "code",
   "execution_count": 38,
   "id": "1dac94a8",
   "metadata": {},
   "outputs": [
    {
     "data": {
      "text/plain": [
       "5"
      ]
     },
     "execution_count": 38,
     "metadata": {},
     "output_type": "execute_result"
    }
   ],
   "source": [
    "2+3"
   ]
  },
  {
   "cell_type": "code",
   "execution_count": 39,
   "id": "1560db4e",
   "metadata": {},
   "outputs": [
    {
     "name": "stdout",
     "output_type": "stream",
     "text": [
      "14\n"
     ]
    }
   ],
   "source": [
    "num1 = int(input(\"Enter the first number\"))\n",
    "num2 = int(input(\"Enter the second number\"))\n",
    "\n",
    "print(num1 + num2)"
   ]
  },
  {
   "cell_type": "code",
   "execution_count": 40,
   "id": "0707a0e0",
   "metadata": {},
   "outputs": [
    {
     "name": "stdout",
     "output_type": "stream",
     "text": [
      "1.0\n"
     ]
    }
   ],
   "source": [
    "num1 = float(input(\"Enter the first number: \"))\n",
    "num2 = float(input(\"Enter the second number: \"))\n",
    "\n",
    "operation = input(\"Choose +, -, *, /\")\n",
    "\n",
    "if(operation == \"+\"):\n",
    "    print(num1+num2)\n",
    "elif(operation == \"-\"):\n",
    "    print(num1-num2)\n",
    "elif(operation == \"*\"):\n",
    "    print(num1*num2)\n",
    "else:\n",
    "    if(num2 == 0):\n",
    "        print(\"Undefined\")\n",
    "    else:\n",
    "        print(num1/num2)"
   ]
  },
  {
   "cell_type": "code",
   "execution_count": 41,
   "id": "2b4f31f3",
   "metadata": {},
   "outputs": [
    {
     "name": "stdout",
     "output_type": "stream",
     "text": [
      "S\n",
      "o\n",
      "h\n",
      "a\n",
      "m\n",
      "A\n",
      "m\n",
      "b\n",
      "o\n",
      "r\n",
      "e\n"
     ]
    }
   ],
   "source": [
    "name = \"SohamAmbore\"\n",
    "\n",
    "for i in name[::1]:\n",
    "    print(i)\n"
   ]
  },
  {
   "cell_type": "code",
   "execution_count": 42,
   "id": "972fd84f",
   "metadata": {},
   "outputs": [
    {
     "name": "stdout",
     "output_type": "stream",
     "text": [
      "28\n"
     ]
    }
   ],
   "source": [
    "sum = 0\n",
    "num = int(input(\"Enter the number: \"))\n",
    "for i in range (num+1):\n",
    "    sum+= i\n",
    "print(sum)"
   ]
  },
  {
   "cell_type": "code",
   "execution_count": 43,
   "id": "d63b57dc",
   "metadata": {},
   "outputs": [
    {
     "name": "stdout",
     "output_type": "stream",
     "text": [
      "28\n"
     ]
    }
   ],
   "source": [
    "sum = 0\n",
    "num = int(input(\"Enter the number: \"))\n",
    "i = 0\n",
    "while i <= num:\n",
    "    sum+=i\n",
    "    i=i+1\n",
    "print(sum)"
   ]
  },
  {
   "cell_type": "code",
   "execution_count": 44,
   "id": "5720ff49",
   "metadata": {},
   "outputs": [
    {
     "name": "stdout",
     "output_type": "stream",
     "text": [
      "2 is a Prime number\n",
      "3 is a Prime number\n",
      "5 is a Prime number\n",
      "7 is a Prime number\n",
      "11 is a Prime number\n",
      "13 is a Prime number\n",
      "17 is a Prime number\n",
      "19 is a Prime number\n",
      "23 is a Prime number\n",
      "29 is a Prime number\n",
      "31 is a Prime number\n",
      "37 is a Prime number\n",
      "41 is a Prime number\n",
      "43 is a Prime number\n",
      "47 is a Prime number\n",
      "53 is a Prime number\n",
      "59 is a Prime number\n",
      "61 is a Prime number\n",
      "67 is a Prime number\n",
      "71 is a Prime number\n",
      "73 is a Prime number\n",
      "79 is a Prime number\n",
      "83 is a Prime number\n",
      "89 is a Prime number\n",
      "97 is a Prime number\n"
     ]
    }
   ],
   "source": [
    "#display prime numbers between 1 to 100\n",
    "\n",
    "for i in range (2, 101):\n",
    "    isPrime = True\n",
    "\n",
    "    for j in range (2, i):\n",
    "        if(i%j==0):\n",
    "            isPrime = False\n",
    "    \n",
    "    if isPrime:\n",
    "        print(f\"{i} is a Prime number\")\n"
   ]
  },
  {
   "cell_type": "code",
   "execution_count": 45,
   "id": "49548499",
   "metadata": {},
   "outputs": [
    {
     "name": "stdout",
     "output_type": "stream",
     "text": [
      "It is a positive number\n"
     ]
    }
   ],
   "source": [
    "num = int(input(\"Enter a num: \"))\n",
    "if(num>0):\n",
    "    print(\"It is a positive number\")\n",
    "elif(num == 0):\n",
    "    print(\"It is zero\")\n",
    "else:\n",
    "    print(\"It is a negative number\")"
   ]
  },
  {
   "cell_type": "code",
   "execution_count": 46,
   "id": "2df365a4",
   "metadata": {},
   "outputs": [
    {
     "name": "stdout",
     "output_type": "stream",
     "text": [
      "It is positive and an odd number\n"
     ]
    }
   ],
   "source": [
    "num = int(input(\"Enter a num: \"))\n",
    "\n",
    "if(num>0 and num%2==0):\n",
    "    print(\"It is positive and an even number\")\n",
    "elif(num>0 and num%2!=0):\n",
    "    print(\"It is positive and an odd number\")\n",
    "else:\n",
    "    print(\"It is a negative number or zero\")"
   ]
  },
  {
   "cell_type": "code",
   "execution_count": 47,
   "id": "26a63f82",
   "metadata": {},
   "outputs": [
    {
     "name": "stdout",
     "output_type": "stream",
     "text": [
      "1\n",
      "2\n",
      "3\n",
      "4\n",
      "5\n",
      "6\n",
      "7\n",
      "8\n",
      "9\n",
      "10\n"
     ]
    }
   ],
   "source": [
    "for i in range (1, 11):\n",
    "    print(i)"
   ]
  },
  {
   "cell_type": "code",
   "execution_count": 48,
   "id": "911f02b1",
   "metadata": {},
   "outputs": [
    {
     "name": "stdout",
     "output_type": "stream",
     "text": [
      "1\n",
      "2\n",
      "3\n",
      "4\n",
      "5\n",
      "6\n",
      "7\n",
      "8\n",
      "9\n",
      "10\n"
     ]
    }
   ],
   "source": [
    "i = 1\n",
    "while (i<11):\n",
    "    print(i)\n",
    "    i=i+1"
   ]
  },
  {
   "cell_type": "code",
   "execution_count": 49,
   "id": "3204e04b",
   "metadata": {},
   "outputs": [
    {
     "name": "stdout",
     "output_type": "stream",
     "text": [
      "* * * * * \n",
      "* * * * * \n",
      "* * * * * \n",
      "* * * * * \n",
      "* * * * * \n"
     ]
    }
   ],
   "source": [
    "for i in range (1, 6):\n",
    "    for j in range (1, 6):\n",
    "        print(\"*\", end=\" \")\n",
    "    print()"
   ]
  },
  {
   "cell_type": "code",
   "execution_count": null,
   "id": "0c95bd71",
   "metadata": {},
   "outputs": [],
   "source": [
    "sum = 0\n",
    "\n",
    "while True:\n",
    "    check = int(input())\n",
    "    if check == 0:\n",
    "        break\n",
    "    sum += check\n",
    "\n",
    "print(sum)\n"
   ]
  },
  {
   "cell_type": "code",
   "execution_count": null,
   "id": "ad12ebc9",
   "metadata": {},
   "outputs": [
    {
     "name": "stdout",
     "output_type": "stream",
     "text": [
      "1\n",
      "2\n",
      "3\n",
      "4\n",
      "6\n",
      "7\n",
      "8\n",
      "9\n",
      "10\n"
     ]
    }
   ],
   "source": [
    "for i in range (1, 11):\n",
    "    if(i==5):\n",
    "        continue\n",
    "    else:\n",
    "        print(i)\n",
    "        "
   ]
  },
  {
   "cell_type": "code",
   "execution_count": null,
   "id": "384983bc",
   "metadata": {},
   "outputs": [
    {
     "name": "stdout",
     "output_type": "stream",
     "text": [
      "2\n",
      "4\n",
      "6\n",
      "8\n",
      "10\n",
      "12\n",
      "14\n"
     ]
    }
   ],
   "source": [
    "num = int(input())\n",
    "for i in range (1, num+1):\n",
    "    if (i%2==0):\n",
    "        print(i)\n",
    "    else:\n",
    "        continue"
   ]
  },
  {
   "cell_type": "code",
   "execution_count": null,
   "id": "dcd662a8",
   "metadata": {},
   "outputs": [
    {
     "name": "stdout",
     "output_type": "stream",
     "text": [
      "120\n"
     ]
    }
   ],
   "source": [
    "#Factorial Calculation\n",
    "num = int(input())\n",
    "i = 1\n",
    "ans = 1\n",
    "while (i<=num):\n",
    "    ans*=i\n",
    "    i=i+1\n",
    "\n",
    "print(ans)"
   ]
  },
  {
   "cell_type": "code",
   "execution_count": null,
   "id": "ddbf2dc2",
   "metadata": {},
   "outputs": [
    {
     "name": "stdout",
     "output_type": "stream",
     "text": [
      "15\n"
     ]
    }
   ],
   "source": [
    "#Sum of Digits\n",
    "sum = 0\n",
    "num = int(input())\n",
    "while (num>0):\n",
    "    sum+=num%10\n",
    "    num//=10\n",
    "print(sum)"
   ]
  },
  {
   "cell_type": "code",
   "execution_count": null,
   "id": "30340d6a",
   "metadata": {},
   "outputs": [
    {
     "name": "stdout",
     "output_type": "stream",
     "text": [
      "8 is not a prime number\n"
     ]
    }
   ],
   "source": [
    "#Prime Number Check\n",
    "num = int(input())\n",
    "isPrime = True\n",
    "for i in range (2, num):\n",
    "    if(num%i==0):\n",
    "        isPrime = False\n",
    "if(isPrime):\n",
    "    print(f\"{num} is a prime number\")\n",
    "else:\n",
    "    print(f\"{num} is not a prime number\")"
   ]
  },
  {
   "cell_type": "code",
   "execution_count": null,
   "id": "0326c90d",
   "metadata": {},
   "outputs": [
    {
     "name": "stdout",
     "output_type": "stream",
     "text": [
      "0\n",
      "1\n",
      "1\n",
      "2\n",
      "3\n",
      "5\n"
     ]
    }
   ],
   "source": [
    "#Fibonacci Sequence\n",
    "num = int(input())\n",
    "first = 0\n",
    "second = 1\n",
    "\n",
    "for i in range (0, num+1):\n",
    "    print (first)\n",
    "\n",
    "    temp = second\n",
    "    second = first + second\n",
    "    first = temp "
   ]
  },
  {
   "cell_type": "code",
   "execution_count": null,
   "id": "fc333527",
   "metadata": {},
   "outputs": [
    {
     "name": "stdout",
     "output_type": "stream",
     "text": [
      "['banana', 'apple', 'n', 'i', 'g', 'g', 'a']\n"
     ]
    }
   ],
   "source": [
    "fruits = [\"banana\", \"apple\", \"mango\", \"strawberry\", \"watermelon\"]\n",
    "\n",
    "# for i in range (0, 5):\n",
    "#     fruits[i] = \"nigga\"\n",
    "fruits[2:] = \"nigga\"\n",
    "\n",
    "print(fruits)"
   ]
  },
  {
   "cell_type": "code",
   "execution_count": null,
   "id": "b53f9df2",
   "metadata": {},
   "outputs": [
    {
     "name": "stdout",
     "output_type": "stream",
     "text": [
      "[0, 1, 2, 3, 4, 5, 6, 7, 8, 9, 10, 11, 12, 13, 14, 15, 16, 17, 18, 19]\n"
     ]
    }
   ],
   "source": [
    "list=[num for num in range (0,20)]\n",
    "print(list)"
   ]
  },
  {
   "cell_type": "code",
   "execution_count": null,
   "id": "f9be5229",
   "metadata": {},
   "outputs": [
    {
     "name": "stdout",
     "output_type": "stream",
     "text": [
      "<class 'list'>\n"
     ]
    }
   ],
   "source": [
    "list = [1, 0.3, True, \"boy\"]\n",
    "print(type(list))"
   ]
  },
  {
   "cell_type": "code",
   "execution_count": null,
   "id": "4ddd660d",
   "metadata": {},
   "outputs": [
    {
     "name": "stdout",
     "output_type": "stream",
     "text": [
      "['banana', 'apple', 'mango', 'strawberry', 'watermelon']\n",
      "['banana', 'cherry', 'apple', 'mango', 'strawberry', 'watermelon']\n"
     ]
    }
   ],
   "source": [
    "fruits = [\"banana\", \"apple\", \"mango\", \"strawberry\", \"watermelon\"]\n",
    "print(fruits)\n",
    "fruits.insert(1, \"cherry\")\n",
    "print(fruits)"
   ]
  },
  {
   "cell_type": "code",
   "execution_count": null,
   "id": "86b09d54",
   "metadata": {},
   "outputs": [
    {
     "data": {
      "text/plain": [
       "[2, 4, 6, 8, 10, 12, 14, 16, 18, 20]"
      ]
     },
     "execution_count": 13,
     "metadata": {},
     "output_type": "execute_result"
    }
   ],
   "source": [
    "doubles = [1, 2, 3, 4, 5, 6, 7, 8, 9, 10]\n",
    "for i in range (0, 10):\n",
    "    doubles[i]=doubles[i]*2\n",
    "\n",
    "doubles"
   ]
  },
  {
   "cell_type": "code",
   "execution_count": null,
   "id": "04e25aa7",
   "metadata": {},
   "outputs": [
    {
     "data": {
      "text/plain": [
       "[4, 8, 12, 16, 20]"
      ]
     },
     "execution_count": 14,
     "metadata": {},
     "output_type": "execute_result"
    }
   ],
   "source": [
    "[i*2 for i in range(1, 11) if i%2==0]\n",
    "#[expression for value in iterable if condition]"
   ]
  },
  {
   "cell_type": "code",
   "execution_count": null,
   "id": "a16bccef",
   "metadata": {},
   "outputs": [
    {
     "name": "stdout",
     "output_type": "stream",
     "text": [
      "[1, 8, 27, 64, 125, 216, 343, 512, 729, 1000]\n"
     ]
    }
   ],
   "source": [
    "array = [i**3 for i in range(1,11)]\n",
    "print(array)"
   ]
  },
  {
   "cell_type": "code",
   "execution_count": null,
   "id": "0133981a",
   "metadata": {},
   "outputs": [
    {
     "name": "stdout",
     "output_type": "stream",
     "text": [
      "['BANANA', 'APPLE', 'MANGO', 'STRAWBERRY', 'WATERMELON']\n"
     ]
    }
   ],
   "source": [
    "fruits = [\"banana\", \"apple\", \"mango\", \"strawberry\", \"watermelon\"]\n",
    "upperFruits = [i.upper() for i in fruits]\n",
    "print(upperFruits)"
   ]
  },
  {
   "cell_type": "code",
   "execution_count": null,
   "id": "b7d52f34",
   "metadata": {},
   "outputs": [],
   "source": [
    "#List comprehension:\n",
    "# [expression for value in iterable if condition]"
   ]
  },
  {
   "cell_type": "code",
   "execution_count": null,
   "id": "910ff703",
   "metadata": {},
   "outputs": [
    {
     "data": {
      "text/plain": [
       "[2, 4, 6, 8, 10, 12, 14, 16, 18, 20]"
      ]
     },
     "execution_count": 2,
     "metadata": {},
     "output_type": "execute_result"
    }
   ],
   "source": [
    "[i for i in range (1, 21) if i%2==0]"
   ]
  },
  {
   "cell_type": "code",
   "execution_count": null,
   "id": "d14db1c7",
   "metadata": {},
   "outputs": [
    {
     "name": "stdout",
     "output_type": "stream",
     "text": [
      "[1, 3, 12, 13, 23, 31, 32, 231, 1312]\n"
     ]
    }
   ],
   "source": [
    "#Create a list of random numbers and sort it in ascending and descending order.\n",
    "#Remove the duplicates from the list and print the modified list.\n",
    "\n",
    "random = [12, 31, 231, 32, 13, 23, 1312, 3, 1, 23, 13]\n",
    "random = list(set(random))\n",
    "random.sort()\n",
    "print(random)\n",
    "\n"
   ]
  },
  {
   "cell_type": "code",
   "execution_count": null,
   "id": "0a72c7d7",
   "metadata": {},
   "outputs": [
    {
     "name": "stdout",
     "output_type": "stream",
     "text": [
      "[[1, 2, 3], [4, 5, 6], [7, 8, 9]]\n",
      "6\n"
     ]
    }
   ],
   "source": [
    "#Create a nested list representing a 3x3 matrix and print the matrix.\n",
    "#Access and print the element at the second row and third column.\n",
    "nestedList = [[1, 2, 3],[4, 5, 6],[7, 8, 9]]\n",
    "print(nestedList)\n",
    "\n",
    "print(nestedList[1][2])"
   ]
  },
  {
   "cell_type": "code",
   "execution_count": null,
   "id": "3a9f1d67",
   "metadata": {},
   "outputs": [
    {
     "name": "stdout",
     "output_type": "stream",
     "text": [
      "(16, 3.14, 'Dog')\n",
      "<class 'tuple'>\n"
     ]
    }
   ],
   "source": [
    "#Touples\n",
    "\n",
    "mixedTouple = (16, 3.14, \"Dog\")\n",
    "print(mixedTouple)\n",
    "print(type(mixedTouple))"
   ]
  },
  {
   "cell_type": "code",
   "execution_count": null,
   "id": "20f67374",
   "metadata": {},
   "outputs": [],
   "source": [
    "#LISTS are mutable (changable/modifyable)\n",
    "#TUPLES are immutable"
   ]
  },
  {
   "cell_type": "code",
   "execution_count": null,
   "id": "1d76112a",
   "metadata": {},
   "outputs": [
    {
     "name": "stdout",
     "output_type": "stream",
     "text": [
      "(1, 2, 3, 4, 5, 6, 7, 8, 9, 10)\n",
      "2\n",
      "10\n",
      "6\n"
     ]
    }
   ],
   "source": [
    "tpl = (1, 2, 3, 4, 5, 6, 7, 8, 9, 10)\n",
    "print(tpl)\n",
    "\n",
    "print(tpl[1])\n",
    "print(tpl[-1])\n",
    "print(tpl[len(tpl)//2])\n"
   ]
  },
  {
   "cell_type": "code",
   "execution_count": null,
   "id": "1fe0b2bf",
   "metadata": {},
   "outputs": [
    {
     "name": "stdout",
     "output_type": "stream",
     "text": [
      "(1, 2, 3)\n",
      "(8, 9, 10)\n",
      "(3, 4, 5, 6)\n"
     ]
    }
   ],
   "source": [
    "print(tpl[:3])\n",
    "print(tpl[-3:])\n",
    "print(tpl[2:6])"
   ]
  },
  {
   "cell_type": "code",
   "execution_count": null,
   "id": "e8877b22",
   "metadata": {},
   "outputs": [
    {
     "name": "stdout",
     "output_type": "stream",
     "text": [
      "((1, 2, 3), (4, 5, 6), (7, 8, 9))\n",
      "6\n"
     ]
    }
   ],
   "source": [
    "tpl = ((1, 2, 3),(4, 5, 6),(7, 8, 9))\n",
    "print(tpl)\n",
    "print(tpl[1][2])"
   ]
  },
  {
   "cell_type": "code",
   "execution_count": null,
   "id": "11199177",
   "metadata": {},
   "outputs": [
    {
     "name": "stdout",
     "output_type": "stream",
     "text": [
      "(1, 2, 3, 4, 5, 6)\n"
     ]
    }
   ],
   "source": [
    "tupleA = (1, 2, 3)\n",
    "tupleB = (4, 5, 6)\n",
    "print(tupleA+tupleB)"
   ]
  },
  {
   "cell_type": "code",
   "execution_count": null,
   "id": "366358bb",
   "metadata": {},
   "outputs": [
    {
     "name": "stdout",
     "output_type": "stream",
     "text": [
      "2\n",
      "5\n"
     ]
    }
   ],
   "source": [
    "tpl = (1, 2, 3, 4, 5, 6, 6)\n",
    "print(tpl.count(6))\n",
    "print(tpl.index(6))\n"
   ]
  },
  {
   "cell_type": "code",
   "execution_count": 57,
   "id": "42788ff3",
   "metadata": {},
   "outputs": [
    {
     "name": "stdout",
     "output_type": "stream",
     "text": [
      "1 2 3 4 5\n"
     ]
    }
   ],
   "source": [
    "tpl = (1, 2, 3, 4, 5)\n",
    "a, b, c, d, e = tpl\n",
    "print(a, b, c, d, e)"
   ]
  },
  {
   "cell_type": "code",
   "execution_count": 5,
   "id": "d1927abc",
   "metadata": {},
   "outputs": [
    {
     "name": "stdout",
     "output_type": "stream",
     "text": [
      "(1, 2, 3, 4, 5)\n"
     ]
    }
   ],
   "source": [
    "lst = [1, 2, 3, 4, 5]\n",
    "tpl = tuple(lst)\n",
    "print(tpl)\n"
   ]
  },
  {
   "cell_type": "code",
   "execution_count": 8,
   "id": "22a06f89",
   "metadata": {},
   "outputs": [
    {
     "name": "stdout",
     "output_type": "stream",
     "text": [
      "((1, 2, 3), (4, 5, 6), (7, 8, 9))\n"
     ]
    }
   ],
   "source": [
    "tpl_of_tpls = ((1, 2, 3), (4, 5, 6), (7, 8, 9))\n",
    "print(tpl_of_tpls)"
   ]
  },
  {
   "cell_type": "code",
   "execution_count": 14,
   "id": "70a1d2b9",
   "metadata": {},
   "outputs": [
    {
     "name": "stdout",
     "output_type": "stream",
     "text": [
      "[1, 2, 3, 4, 5]\n",
      "(1, 2, 3, 4, 5, 6)\n"
     ]
    }
   ],
   "source": [
    "tpl = (1, 2, 3, 4, 5)\n",
    "lst = list(tpl)\n",
    "print(lst)\n",
    "lst.append(6)\n",
    "tpl = tuple(lst)\n",
    "print(tpl)"
   ]
  },
  {
   "cell_type": "code",
   "execution_count": 20,
   "id": "cddf8dda",
   "metadata": {},
   "outputs": [
    {
     "name": "stdout",
     "output_type": "stream",
     "text": [
      "('h', 'e', 'l', 'l', 'o')\n",
      "hello\n"
     ]
    }
   ],
   "source": [
    "tpl = (\"h\", \"e\", \"l\", \"l\", \"o\")\n",
    "print(tpl)\n",
    "new_tpl = \"\".join(tpl)\n",
    "print(new_tpl)"
   ]
  },
  {
   "cell_type": "code",
   "execution_count": 29,
   "id": "60a4f674",
   "metadata": {},
   "outputs": [
    {
     "name": "stdout",
     "output_type": "stream",
     "text": [
      "{1, 2, 3, 4, 5, 6}\n",
      "{1, 2, 3, 4, 5}\n",
      "{2, 3, 4, 5}\n"
     ]
    }
   ],
   "source": [
    "#sets\n",
    "\n",
    "my_set = {1, 2, 3, 4, 5}\n",
    "my_set.add(6)\n",
    "print(my_set)\n",
    "my_set.remove(6)\n",
    "print(my_set)\n",
    "\n",
    "my_set.pop()\n",
    "print(my_set)"
   ]
  },
  {
   "cell_type": "code",
   "execution_count": 34,
   "id": "5f78fbd7",
   "metadata": {},
   "outputs": [
    {
     "name": "stdout",
     "output_type": "stream",
     "text": [
      "True\n"
     ]
    }
   ],
   "source": [
    "my_set = {1, 2, 3, 4, 5}\n",
    "print(3 in my_set)"
   ]
  },
  {
   "cell_type": "code",
   "execution_count": 40,
   "id": "eee7a200",
   "metadata": {},
   "outputs": [
    {
     "name": "stdout",
     "output_type": "stream",
     "text": [
      "{1, 2, 3, 4, 5, 6, 7, 8, 9, 10}\n",
      "{5, 6}\n"
     ]
    }
   ],
   "source": [
    "set1 = {1, 2, 3, 4, 5, 6}\n",
    "set2 = {5, 6, 7, 8, 9, 10}\n",
    "\n",
    "#union:\n",
    "union_set = set1.union(set2)\n",
    "print(union_set)\n",
    "\n",
    "#intersection:\n",
    "intersection_set = set1.intersection(set2)\n",
    "print(intersection_set)"
   ]
  },
  {
   "cell_type": "code",
   "execution_count": 49,
   "id": "b68d7fb3",
   "metadata": {},
   "outputs": [
    {
     "name": "stdout",
     "output_type": "stream",
     "text": [
      "{'In', 'sets.', 'Enjoy', 'are', 'we', 'learning', 'this', 'about', 'the', 'tutorial'}\n"
     ]
    }
   ],
   "source": [
    "#counting unique words in a sentence\n",
    "sentence = \"In this tutorial we are learning about sets. Enjoy the tutorial\"\n",
    "words = sentence.split()\n",
    "\n",
    "#convert list of words to set to get unique words\n",
    "unique_words = set(words)\n",
    "print(unique_words)"
   ]
  },
  {
   "cell_type": "code",
   "execution_count": null,
   "id": "73eb55bc",
   "metadata": {},
   "outputs": [
    {
     "name": "stdout",
     "output_type": "stream",
     "text": [
      "{'name': 'Soham', 'age': 20, 'male': True}\n",
      "<class 'dict'>\n"
     ]
    }
   ],
   "source": [
    "#dictionaries:\n",
    "my_dict = {\n",
    "    \"name\": \"Soham\", \n",
    "    \"age\" : 20,\n",
    "    \"male\" : True\n",
    "    }\n",
    "print(my_dict)\n",
    "print(type(my_dict))\n",
    "\n",
    "#RULES:\n",
    "#keys should be unique\n",
    "#dictionaries are mutable, so we can update or delete elements\n"
   ]
  },
  {
   "cell_type": "code",
   "execution_count": null,
   "id": "980c890a",
   "metadata": {},
   "outputs": [
    {
     "name": "stdout",
     "output_type": "stream",
     "text": [
      "19\n",
      "20\n",
      "Pune\n",
      "{'name': 'Prakash', 'age': 20, 'address': 'Pune'}\n"
     ]
    }
   ],
   "source": [
    "student = {\n",
    "    \"name\" : \"Prakash\",\n",
    "    \"age\" : 19,\n",
    "    \"grade\" : 'A'\n",
    "}\n",
    "\n",
    "print(student[\"age\"]) #read \n",
    "\n",
    "student[\"age\"] = 20 #update\n",
    "print(student[\"age\"])\n",
    "\n",
    "student[\"address\"] =\"Pune\" #create\n",
    "print(student[\"address\"])\n",
    "\n",
    "del student[\"grade\"] #delete\n",
    "print(student)"
   ]
  },
  {
   "cell_type": "code",
   "execution_count": null,
   "id": "f5d72491",
   "metadata": {},
   "outputs": [
    {
     "name": "stdout",
     "output_type": "stream",
     "text": [
      "dict_keys(['name', 'age', 'address'])\n",
      "dict_values(['Prakash', 20, 'Pune'])\n",
      "dict_items([('name', 'Prakash'), ('age', 20), ('address', 'Pune')])\n",
      "{'name': 'Prakash', 'age': 20, 'address': 'Pune'}\n"
     ]
    }
   ],
   "source": [
    "# Dictionary methods\n",
    "\n",
    "keys = student.keys()\n",
    "print(keys)\n",
    "\n",
    "values = student.values()\n",
    "print(values)\n",
    "\n",
    "items = student.items()\n",
    "print(items)"
   ]
  },
  {
   "cell_type": "code",
   "execution_count": 71,
   "id": "1b7ddad5",
   "metadata": {},
   "outputs": [
    {
     "name": "stdout",
     "output_type": "stream",
     "text": [
      "{'name': 'Aditya', 'age': 20, 'address': 'Pune'}\n",
      "{'name': 'Aditya', 'age': 20, 'address': 'Pune'}\n",
      "{'name': 'Prakash', 'age': 20, 'address': 'Pune'}\n",
      "{'name': 'Aditya', 'age': 20, 'address': 'Pune'}\n"
     ]
    }
   ],
   "source": [
    "#shallow copy\n",
    "student_copy = student\n",
    "student[\"name\"] = \"Aditya\"\n",
    "print(student)\n",
    "print(student_copy)\n",
    "\n",
    "#updates both the places\n",
    "\n",
    "student_copy1 = student.copy() #shalow copy\n",
    "student[\"name\"] = \"Prakash\"\n",
    "print(student)\n",
    "print(student_copy1)"
   ]
  },
  {
   "cell_type": "code",
   "execution_count": null,
   "id": "03b6e173",
   "metadata": {},
   "outputs": [
    {
     "name": "stdout",
     "output_type": "stream",
     "text": [
      "name\n",
      "age\n",
      "address\n",
      "Prakash\n",
      "20\n",
      "Pune\n"
     ]
    }
   ],
   "source": [
    "#iterating over dictionaries\n",
    "\n",
    "#iterating over keys\n",
    "for key in student.keys():\n",
    "    print(key)\n",
    "\n",
    "#iterating over values\n",
    "for value in student.values():\n",
    "    print(value)"
   ]
  },
  {
   "cell_type": "code",
   "execution_count": 77,
   "id": "cb1e3c6e",
   "metadata": {},
   "outputs": [
    {
     "name": "stdout",
     "output_type": "stream",
     "text": [
      "name : Prakash\n",
      "age : 20\n",
      "address : Pune\n"
     ]
    }
   ],
   "source": [
    "#iterate over key value pairs:\n",
    "for key, value in student.items():\n",
    "    print(f\"{key} : {value}\")"
   ]
  },
  {
   "cell_type": "code",
   "execution_count": 81,
   "id": "a1e8aab9",
   "metadata": {},
   "outputs": [
    {
     "name": "stdout",
     "output_type": "stream",
     "text": [
      "{'student1': {'name': 'peter', 'age': 28}, 'student2': {'name': 'tony', 'age': 38}}\n"
     ]
    }
   ],
   "source": [
    "#nested dictionaries\n",
    "students = {\n",
    "    \"student1\" : {\"name\":\"peter\", \"age\":28},\n",
    "    \"student2\" : {\"name\":\"tony\", \"age\":38}\n",
    "}\n",
    "print(students)"
   ]
  },
  {
   "cell_type": "code",
   "execution_count": 84,
   "id": "295f2a53",
   "metadata": {},
   "outputs": [
    {
     "name": "stdout",
     "output_type": "stream",
     "text": [
      "student1:{'name': 'peter', 'age': 28}\n",
      "name:peter\n",
      "age:28\n",
      "student2:{'name': 'tony', 'age': 38}\n",
      "name:tony\n",
      "age:38\n"
     ]
    }
   ],
   "source": [
    "#iterating over nested dictionaries\n",
    "for student_id, student_info in students.items():\n",
    "    print(f\"{student_id}:{student_info}\")\n",
    "    for key, value in student_info.items():\n",
    "        print(f\"{key}:{value}\")"
   ]
  },
  {
   "cell_type": "code",
   "execution_count": 92,
   "id": "1fbc1433",
   "metadata": {},
   "outputs": [
    {
     "name": "stdout",
     "output_type": "stream",
     "text": [
      "{0: 0, 2: 4, 4: 16, 6: 36, 8: 64}\n"
     ]
    }
   ],
   "source": [
    "#Dictionary Comprehension\n",
    "squares = {x:x**2 for x in range(10) if x%2==0}\n",
    "print(squares)"
   ]
  },
  {
   "cell_type": "code",
   "execution_count": 95,
   "id": "525f0c21",
   "metadata": {},
   "outputs": [
    {
     "name": "stdout",
     "output_type": "stream",
     "text": [
      "{1: 1, 2: 2, 3: 3, 4: 5}\n"
     ]
    }
   ],
   "source": [
    "#Practical examples:\n",
    "#Use a dictionary to count the frequency of elements in list\n",
    "\n",
    "numbers=[1, 2, 2, 3, 3, 3, 4, 4, 4, 4, 4]\n",
    "frequency={}\n",
    "for num in numbers:\n",
    "    if num in frequency:\n",
    "        frequency[num]+=1\n",
    "    else:\n",
    "        frequency[num]=1\n",
    "\n",
    "\n",
    "print(frequency)"
   ]
  },
  {
   "cell_type": "code",
   "execution_count": 100,
   "id": "327cc9ed",
   "metadata": {},
   "outputs": [
    {
     "name": "stdout",
     "output_type": "stream",
     "text": [
      "{'a': 1, 'b': 2, 'c': 3, 'd': 4}\n"
     ]
    }
   ],
   "source": [
    "#Merge two dictionaries into one\n",
    "dict1 = {\"a\":1, \"b\":2}\n",
    "dict2 = {\"c\":3, \"d\":4}\n",
    "\n",
    "merged_dict = {**dict1, **dict2}\n",
    "print(merged_dict)"
   ]
  },
  {
   "cell_type": "code",
   "execution_count": 10,
   "id": "792fe2f8",
   "metadata": {},
   "outputs": [
    {
     "name": "stdout",
     "output_type": "stream",
     "text": [
      "[523, 523, 52, 23, 12, 5, 4, 1]\n",
      "{1, 4, 5, 523, 12, 52, 23}\n",
      "[523, 52, 23, 12, 5, 4, 1]\n"
     ]
    }
   ],
   "source": [
    "lst = [1, 12, 4, 523, 523, 52, 5, 23]\n",
    "lst.sort()\n",
    "lst.sort(reverse=True)\n",
    "print(lst)\n",
    "my_set = set(lst)\n",
    "print(my_set)\n",
    "\n",
    "lst = list(my_set)\n",
    "lst.sort(reverse = True)\n",
    "print(lst)"
   ]
  },
  {
   "cell_type": "code",
   "execution_count": 13,
   "id": "95101173",
   "metadata": {},
   "outputs": [
    {
     "name": "stdout",
     "output_type": "stream",
     "text": [
      "[[1, 2, 3], [4, 5, 6], [7, 8, 9]]\n",
      "6\n"
     ]
    }
   ],
   "source": [
    "lst = [[1, 2, 3],[4, 5, 6],[7, 8, 9]]\n",
    "print(lst)\n",
    "print(lst[1][2])"
   ]
  },
  {
   "cell_type": "code",
   "execution_count": null,
   "id": "1b2da9bc",
   "metadata": {},
   "outputs": [],
   "source": [
    "#Create a list of dictionaries where each dictionary represents a student with keys 'name' and 'score'. Sort the list of dictionaries by the 'score' in descending order and print the sorted list.\n",
    "\n",
    "lst = [\n",
    "    {\"name\": \"Anna\", \"score\": \"A\"},\n",
    "    {\"name\": \"Bob\", \"score\": \"C\"},\n",
    "    {\"name\": \"Carol\", \"score\": \"B\"}\n",
    "]\n",
    "\n",
    "lst.score.sort()\n",
    "print(lst)"
   ]
  },
  {
   "cell_type": "code",
   "execution_count": null,
   "id": "30b34585",
   "metadata": {},
   "outputs": [
    {
     "name": "stdout",
     "output_type": "stream",
     "text": [
      "[1, 4, 7]\n",
      "[4, 5, 8]\n",
      "[7, 8, 9]\n"
     ]
    }
   ],
   "source": [
    "lst = [\n",
    "    [1, 2, 3],\n",
    "    [4, 5, 6],\n",
    "    [7, 8, 9]\n",
    "    ]\n",
    "\n",
    "\n",
    "\n",
    "for i in range (len(lst)):\n",
    "    for j in range (len(lst[i])):\n",
    "        lst[i][j]=(lst[j][i])\n",
    "\n",
    "for row in (lst):\n",
    "    print(row)"
   ]
  },
  {
   "cell_type": "code",
   "execution_count": null,
   "id": "64fc27cf",
   "metadata": {},
   "outputs": [],
   "source": [
    "#FUNCTIONS:\n",
    "\n",
    "def function_name(parameters):\n",
    "    \"\"\"Docstring\"\"\"#(comments)\n",
    "    # Function body\n",
    "    return expression"
   ]
  },
  {
   "cell_type": "code",
   "execution_count": 2,
   "id": "85f69f34",
   "metadata": {},
   "outputs": [
    {
     "name": "stdout",
     "output_type": "stream",
     "text": [
      "num is even\n",
      "num is odd\n"
     ]
    }
   ],
   "source": [
    "def odd_or_even (num):\n",
    "    if(num%2==0):\n",
    "        print(\"num is even\")\n",
    "    else:\n",
    "        print(\"num is odd\")\n",
    "\n",
    "odd_or_even(16)\n",
    "odd_or_even(67)"
   ]
  },
  {
   "cell_type": "code",
   "execution_count": null,
   "id": "c53e2525",
   "metadata": {},
   "outputs": [],
   "source": []
  }
 ],
 "metadata": {
  "kernelspec": {
   "display_name": "Python 3",
   "language": "python",
   "name": "python3"
  },
  "language_info": {
   "codemirror_mode": {
    "name": "ipython",
    "version": 3
   },
   "file_extension": ".py",
   "mimetype": "text/x-python",
   "name": "python",
   "nbconvert_exporter": "python",
   "pygments_lexer": "ipython3",
   "version": "3.13.5"
  }
 },
 "nbformat": 4,
 "nbformat_minor": 5
}
