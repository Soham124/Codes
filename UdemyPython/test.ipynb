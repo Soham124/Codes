{
 "cells": [
  {
   "cell_type": "code",
   "execution_count": 38,
   "id": "1dac94a8",
   "metadata": {},
   "outputs": [
    {
     "data": {
      "text/plain": [
       "5"
      ]
     },
     "execution_count": 38,
     "metadata": {},
     "output_type": "execute_result"
    }
   ],
   "source": [
    "2+3"
   ]
  },
  {
   "cell_type": "code",
   "execution_count": 1,
   "id": "1560db4e",
   "metadata": {},
   "outputs": [
    {
     "name": "stdout",
     "output_type": "stream",
     "text": [
      "14\n"
     ]
    }
   ],
   "source": [
    "num1 = int(input(\"Enter the first number\"))\n",
    "num2 = int(input(\"Enter the second number\"))\n",
    "\n",
    "print(num1 + num2)"
   ]
  },
  {
   "cell_type": "code",
   "execution_count": null,
   "id": "0707a0e0",
   "metadata": {},
   "outputs": [
    {
     "name": "stdout",
     "output_type": "stream",
     "text": [
      "-4.0\n"
     ]
    }
   ],
   "source": [
    "num1 = float(input(\"Enter the first number: \"))\n",
    "num2 = float(input(\"Enter the second number: \"))\n",
    "\n",
    "operation = input(\"Choose +, -, *, /\")\n",
    "\n",
    "if(operation == \"+\"):\n",
    "    print(num1+num2)\n",
    "elif(operation == \"-\"):\n",
    "    print(num1-num2)\n",
    "elif(operation == \"*\"):\n",
    "    print(num1*num2)\n",
    "else:\n",
    "    if(num2 == 0):\n",
    "        print(\"Undefined\")\n",
    "    else:\n",
    "        print(num1/num2)"
   ]
  },
  {
   "cell_type": "code",
   "execution_count": null,
   "id": "2b4f31f3",
   "metadata": {},
   "outputs": [
    {
     "name": "stdout",
     "output_type": "stream",
     "text": [
      "S\n",
      "o\n",
      "h\n",
      "a\n",
      "m\n",
      "A\n",
      "m\n",
      "b\n",
      "o\n",
      "r\n",
      "e\n"
     ]
    }
   ],
   "source": [
    "name = \"SohamAmbore\"\n",
    "\n",
    "for i in name[::1]:\n",
    "    print(i)\n"
   ]
  },
  {
   "cell_type": "code",
   "execution_count": null,
   "id": "972fd84f",
   "metadata": {},
   "outputs": [
    {
     "name": "stdout",
     "output_type": "stream",
     "text": [
      "10\n"
     ]
    }
   ],
   "source": [
    "sum = 0\n",
    "num = int(input(\"Enter the number: \"))\n",
    "for i in range (num+1):\n",
    "    sum+= i\n",
    "print(sum)"
   ]
  },
  {
   "cell_type": "code",
   "execution_count": null,
   "id": "d63b57dc",
   "metadata": {},
   "outputs": [
    {
     "name": "stdout",
     "output_type": "stream",
     "text": [
      "10\n"
     ]
    }
   ],
   "source": [
    "sum = 0\n",
    "num = int(input(\"Enter the number: \"))\n",
    "i = 0\n",
    "while i <= num:\n",
    "    sum+=i\n",
    "    i=i+1\n",
    "print(sum)"
   ]
  },
  {
   "cell_type": "code",
   "execution_count": null,
   "id": "5720ff49",
   "metadata": {},
   "outputs": [
    {
     "name": "stdout",
     "output_type": "stream",
     "text": [
      "2 is a Prime number\n",
      "3 is a Prime number\n",
      "5 is a Prime number\n",
      "7 is a Prime number\n",
      "11 is a Prime number\n",
      "13 is a Prime number\n",
      "17 is a Prime number\n",
      "19 is a Prime number\n",
      "23 is a Prime number\n",
      "29 is a Prime number\n",
      "31 is a Prime number\n",
      "37 is a Prime number\n",
      "41 is a Prime number\n",
      "43 is a Prime number\n",
      "47 is a Prime number\n",
      "53 is a Prime number\n",
      "59 is a Prime number\n",
      "61 is a Prime number\n",
      "67 is a Prime number\n",
      "71 is a Prime number\n",
      "73 is a Prime number\n",
      "79 is a Prime number\n",
      "83 is a Prime number\n",
      "89 is a Prime number\n",
      "97 is a Prime number\n"
     ]
    }
   ],
   "source": [
    "#display prime numbers between 1 to 100\n",
    "\n",
    "for i in range (2, 101):\n",
    "    isPrime = True\n",
    "\n",
    "    for j in range (2, i):\n",
    "        if(i%j==0):\n",
    "            isPrime = False\n",
    "    \n",
    "    if isPrime:\n",
    "        print(f\"{i} is a Prime number\")\n"
   ]
  },
  {
   "cell_type": "code",
   "execution_count": null,
   "id": "49548499",
   "metadata": {},
   "outputs": [
    {
     "name": "stdout",
     "output_type": "stream",
     "text": [
      "It is a negative number\n"
     ]
    }
   ],
   "source": [
    "num = int(input(\"Enter a num: \"))\n",
    "if(num>0):\n",
    "    print(\"It is a positive number\")\n",
    "elif(num == 0):\n",
    "    print(\"It is zero\")\n",
    "else:\n",
    "    print(\"It is a negative number\")"
   ]
  },
  {
   "cell_type": "code",
   "execution_count": null,
   "id": "2df365a4",
   "metadata": {},
   "outputs": [],
   "source": [
    "num = int(input(\"Enter a num: \"))\n",
    "\n",
    "if(num>0 and num%2==0):\n",
    "    print(\"It is positive and an even number\")\n",
    "elif(num>0 and num%2!=0):\n",
    "    print(\"It is positive and an odd number\")\n",
    "else:\n",
    "    print(\"It is a negative number or zero\")"
   ]
  },
  {
   "cell_type": "code",
   "execution_count": null,
   "id": "26a63f82",
   "metadata": {},
   "outputs": [
    {
     "name": "stdout",
     "output_type": "stream",
     "text": [
      "1\n",
      "2\n",
      "3\n",
      "4\n",
      "5\n",
      "6\n",
      "7\n",
      "8\n",
      "9\n",
      "10\n"
     ]
    }
   ],
   "source": [
    "for i in range (1, 11):\n",
    "    print(i)"
   ]
  },
  {
   "cell_type": "code",
   "execution_count": null,
   "id": "911f02b1",
   "metadata": {},
   "outputs": [
    {
     "name": "stdout",
     "output_type": "stream",
     "text": [
      "1\n",
      "2\n",
      "3\n",
      "4\n",
      "5\n",
      "6\n",
      "7\n",
      "8\n",
      "9\n",
      "10\n"
     ]
    }
   ],
   "source": [
    "i = 1\n",
    "while (i<11):\n",
    "    print(i)\n",
    "    i=i+1"
   ]
  },
  {
   "cell_type": "code",
   "execution_count": null,
   "id": "3204e04b",
   "metadata": {},
   "outputs": [
    {
     "name": "stdout",
     "output_type": "stream",
     "text": [
      "* * * * * \n",
      "* * * * * \n",
      "* * * * * \n",
      "* * * * * \n",
      "* * * * * \n"
     ]
    }
   ],
   "source": [
    "for i in range (1, 6):\n",
    "    for j in range (1, 6):\n",
    "        print(\"*\", end=\" \")\n",
    "    print()"
   ]
  },
  {
   "cell_type": "code",
   "execution_count": null,
   "id": "0c95bd71",
   "metadata": {},
   "outputs": [
    {
     "name": "stdout",
     "output_type": "stream",
     "text": [
      "10\n"
     ]
    }
   ],
   "source": [
    "sum = 0\n",
    "\n",
    "while True:\n",
    "    check = int(input())\n",
    "    if check == 0:\n",
    "        break\n",
    "    sum += check\n",
    "\n",
    "print(sum)\n"
   ]
  },
  {
   "cell_type": "code",
   "execution_count": null,
   "id": "ad12ebc9",
   "metadata": {},
   "outputs": [
    {
     "name": "stdout",
     "output_type": "stream",
     "text": [
      "1\n",
      "2\n",
      "3\n",
      "4\n",
      "6\n",
      "7\n",
      "8\n",
      "9\n",
      "10\n"
     ]
    }
   ],
   "source": [
    "for i in range (1, 11):\n",
    "    if(i==5):\n",
    "        continue\n",
    "    else:\n",
    "        print(i)\n",
    "        "
   ]
  },
  {
   "cell_type": "code",
   "execution_count": null,
   "id": "384983bc",
   "metadata": {},
   "outputs": [
    {
     "name": "stdout",
     "output_type": "stream",
     "text": [
      "2\n",
      "4\n",
      "6\n",
      "8\n",
      "10\n",
      "12\n",
      "14\n"
     ]
    }
   ],
   "source": [
    "num = int(input())\n",
    "for i in range (1, num+1):\n",
    "    if (i%2==0):\n",
    "        print(i)\n",
    "    else:\n",
    "        continue"
   ]
  },
  {
   "cell_type": "code",
   "execution_count": null,
   "id": "dcd662a8",
   "metadata": {},
   "outputs": [
    {
     "name": "stdout",
     "output_type": "stream",
     "text": [
      "120\n"
     ]
    }
   ],
   "source": [
    "#Factorial Calculation\n",
    "num = int(input())\n",
    "i = 1\n",
    "ans = 1\n",
    "while (i<=num):\n",
    "    ans*=i\n",
    "    i=i+1\n",
    "\n",
    "print(ans)"
   ]
  },
  {
   "cell_type": "code",
   "execution_count": 12,
   "id": "ddbf2dc2",
   "metadata": {},
   "outputs": [
    {
     "name": "stdout",
     "output_type": "stream",
     "text": [
      "15\n"
     ]
    }
   ],
   "source": [
    "#Sum of Digits\n",
    "sum = 0\n",
    "num = int(input())\n",
    "while (num>0):\n",
    "    sum+=num%10\n",
    "    num//=10\n",
    "print(sum)"
   ]
  },
  {
   "cell_type": "code",
   "execution_count": 5,
   "id": "30340d6a",
   "metadata": {},
   "outputs": [
    {
     "name": "stdout",
     "output_type": "stream",
     "text": [
      "8 is not a prime number\n"
     ]
    }
   ],
   "source": [
    "#Prime Number Check\n",
    "num = int(input())\n",
    "isPrime = True\n",
    "for i in range (2, num):\n",
    "    if(num%i==0):\n",
    "        isPrime = False\n",
    "if(isPrime):\n",
    "    print(f\"{num} is a prime number\")\n",
    "else:\n",
    "    print(f\"{num} is not a prime number\")"
   ]
  },
  {
   "cell_type": "code",
   "execution_count": null,
   "id": "0326c90d",
   "metadata": {},
   "outputs": [
    {
     "name": "stdout",
     "output_type": "stream",
     "text": [
      "0\n",
      "1\n",
      "1\n",
      "2\n",
      "3\n",
      "5\n"
     ]
    }
   ],
   "source": [
    "#Fibonacci Sequence\n",
    "num = int(input())\n",
    "first = 0\n",
    "second = 1\n",
    "\n",
    "for i in range (0, num+1):\n",
    "    print (first)\n",
    "\n",
    "    temp = second\n",
    "    second = first + second\n",
    "    first = temp "
   ]
  },
  {
   "cell_type": "code",
   "execution_count": 9,
   "id": "fc333527",
   "metadata": {},
   "outputs": [
    {
     "name": "stdout",
     "output_type": "stream",
     "text": [
      "['banana', 'apple', 'n', 'i', 'g', 'g', 'a']\n"
     ]
    }
   ],
   "source": [
    "fruits = [\"banana\", \"apple\", \"mango\", \"strawberry\", \"watermelon\"]\n",
    "\n",
    "# for i in range (0, 5):\n",
    "#     fruits[i] = \"nigga\"\n",
    "fruits[2:] = \"nigga\"\n",
    "\n",
    "print(fruits)"
   ]
  },
  {
   "cell_type": "code",
   "execution_count": null,
   "id": "b53f9df2",
   "metadata": {},
   "outputs": [
    {
     "name": "stdout",
     "output_type": "stream",
     "text": [
      "[0, 1, 2, 3, 4, 5, 6, 7, 8, 9, 10, 11, 12, 13, 14, 15, 16, 17, 18, 19]\n"
     ]
    }
   ],
   "source": [
    "list=[num for num in range (0,20)]\n",
    "print(list)"
   ]
  }
 ],
 "metadata": {
  "kernelspec": {
   "display_name": "Python 3",
   "language": "python",
   "name": "python3"
  },
  "language_info": {
   "codemirror_mode": {
    "name": "ipython",
    "version": 3
   },
   "file_extension": ".py",
   "mimetype": "text/x-python",
   "name": "python",
   "nbconvert_exporter": "python",
   "pygments_lexer": "ipython3",
   "version": "3.13.5"
  }
 },
 "nbformat": 4,
 "nbformat_minor": 5
}
