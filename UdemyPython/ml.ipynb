{
 "cells": [
  {
   "cell_type": "code",
   "execution_count": null,
   "id": "0163002d",
   "metadata": {},
   "outputs": [],
   "source": [
    "!pip install numpy"
   ]
  },
  {
   "cell_type": "code",
   "execution_count": 7,
   "id": "01d182f3",
   "metadata": {},
   "outputs": [
    {
     "name": "stdout",
     "output_type": "stream",
     "text": [
      "[1 2 3 4 5]\n",
      "<class 'numpy.ndarray'>\n",
      "(5,)\n"
     ]
    }
   ],
   "source": [
    "import numpy as np\n",
    "\n",
    "##create arrays using numpy\n",
    "##create a 1D array\n",
    "arr1 = np.array([1,2,3,4,5])\n",
    "print(arr1)\n",
    "print(type(arr1))\n",
    "\n",
    "shape = arr1.shape\n",
    "print(shape)\n"
   ]
  },
  {
   "cell_type": "code",
   "execution_count": null,
   "id": "1e5189f6",
   "metadata": {},
   "outputs": [
    {
     "data": {
      "text/plain": [
       "array([[1, 2, 3, 4, 5]])"
      ]
     },
     "execution_count": 8,
     "metadata": {},
     "output_type": "execute_result"
    }
   ],
   "source": [
    "arr2 = np.array([1,2,3,4,5])\n",
    "arr2.reshape(1,5) #1 row and 5 columns"
   ]
  },
  {
   "cell_type": "code",
   "execution_count": 9,
   "id": "168fecdc",
   "metadata": {},
   "outputs": [
    {
     "data": {
      "text/plain": [
       "(1, 5)"
      ]
     },
     "execution_count": 9,
     "metadata": {},
     "output_type": "execute_result"
    }
   ],
   "source": [
    "arr2=np.array([[1,2,3,4,5]])\n",
    "arr2.shape\n"
   ]
  },
  {
   "cell_type": "code",
   "execution_count": 13,
   "id": "6b2c7c82",
   "metadata": {},
   "outputs": [
    {
     "name": "stdout",
     "output_type": "stream",
     "text": [
      "[[1 2 3 4 5]\n",
      " [2 3 4 5 6]]\n",
      "(2, 5)\n"
     ]
    }
   ],
   "source": [
    "arr2=np.array([[1,2,3,4,5],[2,3,4,5,6]])\n",
    "print(arr2)\n",
    "print(arr2.shape)"
   ]
  },
  {
   "cell_type": "code",
   "execution_count": null,
   "id": "e8b211f4",
   "metadata": {},
   "outputs": [],
   "source": [
    "my_list = [[1,2,3,4,5],[1,2,3]]\n",
    "my_list\n",
    "\n",
    "np.array([[1,2,3,4,5],[1,2,3]]) #not possible"
   ]
  },
  {
   "cell_type": "code",
   "execution_count": 20,
   "id": "f2a24c22",
   "metadata": {},
   "outputs": [
    {
     "data": {
      "text/plain": [
       "array([[0],\n",
       "       [2],\n",
       "       [4],\n",
       "       [6],\n",
       "       [8]])"
      ]
     },
     "execution_count": 20,
     "metadata": {},
     "output_type": "execute_result"
    }
   ],
   "source": [
    "np.arange(0,10,2).reshape(5,1)"
   ]
  },
  {
   "cell_type": "code",
   "execution_count": 25,
   "id": "3d787922",
   "metadata": {},
   "outputs": [
    {
     "data": {
      "text/plain": [
       "array([[1., 1., 1., 1.],\n",
       "       [1., 1., 1., 1.],\n",
       "       [1., 1., 1., 1.]])"
      ]
     },
     "execution_count": 25,
     "metadata": {},
     "output_type": "execute_result"
    }
   ],
   "source": [
    "#inbuilt functions\n",
    "np.ones((3,4))"
   ]
  },
  {
   "cell_type": "code",
   "execution_count": 27,
   "id": "2a35a549",
   "metadata": {},
   "outputs": [
    {
     "data": {
      "text/plain": [
       "array([[1., 0., 0.],\n",
       "       [0., 1., 0.],\n",
       "       [0., 0., 1.]])"
      ]
     },
     "execution_count": 27,
     "metadata": {},
     "output_type": "execute_result"
    }
   ],
   "source": [
    "#identity matrix\n",
    "np.eye(3)"
   ]
  },
  {
   "cell_type": "code",
   "execution_count": null,
   "id": "2d6c1e23",
   "metadata": {},
   "outputs": [
    {
     "name": "stdout",
     "output_type": "stream",
     "text": [
      "[[1 2 3]\n",
      " [4 5 6]]\n",
      "(2, 3)\n",
      "2\n",
      "6\n",
      "int64\n",
      "8\n"
     ]
    }
   ],
   "source": [
    "arr = np.array([[1,2,3],[4,5,6]])\n",
    "\n",
    "print(arr) #prints the array\n",
    "print(arr.shape) #shape of the array\n",
    "print(arr.ndim) #dimension of the array\n",
    "print(arr.size) #size of the array\n",
    "print(arr.dtype) #data type\n",
    "print(arr.itemsize) #item size (in bytes)"
   ]
  },
  {
   "cell_type": "code",
   "execution_count": null,
   "id": "0eb5da6e",
   "metadata": {},
   "outputs": [
    {
     "name": "stdout",
     "output_type": "stream",
     "text": [
      "[11 22 33 44 55]\n",
      "[ -9 -18 -27 -36 -45]\n"
     ]
    }
   ],
   "source": [
    "#Numpy vectorized operations\n",
    "arr1=np.array([1,2,3,4,5])\n",
    "arr2=np.array([10,20,30,40,50])\n",
    "\n",
    "#Element wise addition\n",
    "print(arr1+arr2)\n",
    "\n",
    "#Element wise substraction\n",
    "print(arr1-arr2)\n",
    "\n",
    "#Return type will be an array"
   ]
  },
  {
   "cell_type": "code",
   "execution_count": null,
   "id": "5b7cba8b",
   "metadata": {},
   "outputs": [],
   "source": [
    "#Universal functions\n",
    "arr=np.array([1,2,3,4,5,6])\n",
    "\n",
    "print(np.sqrt(arr)) #square root\n",
    "\n",
    "print(np.exp(arr)) #exponential\n",
    "\n",
    "print(np.sin(arr)) #sine\n",
    "\n",
    "print(np.log(arr)) #natural log"
   ]
  },
  {
   "cell_type": "code",
   "execution_count": 60,
   "id": "c3549457",
   "metadata": {},
   "outputs": [
    {
     "name": "stdout",
     "output_type": "stream",
     "text": [
      "[[ 1  2  3  4]\n",
      " [ 5  6  7  8]\n",
      " [ 9 10 11 12]]\n",
      "6\n",
      "[[ 7  8]\n",
      " [11 12]]\n",
      "[[3 4]\n",
      " [7 8]]\n",
      "[[ 6  7]\n",
      " [10 11]]\n"
     ]
    }
   ],
   "source": [
    "#Array slicing and indexing\n",
    "\n",
    "arr=np.array([[1,2,3,4],[5,6,7,8],[9,10,11,12]])\n",
    "print(arr)\n",
    "\n",
    "print(arr[1][1]) \n",
    "\n",
    "print(arr[1:,2:])\n",
    "\n",
    "print(arr[:2,2:])\n",
    "\n",
    "print(arr[1:,1:3])"
   ]
  },
  {
   "cell_type": "code",
   "execution_count": 62,
   "id": "4e2bebf5",
   "metadata": {},
   "outputs": [
    {
     "name": "stdout",
     "output_type": "stream",
     "text": [
      "[[100   2   3   4]\n",
      " [  5   6   7   8]\n",
      " [  9  10  11  12]]\n",
      "[[100   2   3   4]\n",
      " [  0   0   0   0]\n",
      " [  0   0   0   0]]\n"
     ]
    }
   ],
   "source": [
    "#Modify array element\n",
    "arr[0,0] = 100\n",
    "print(arr)\n",
    "\n",
    "arr[1:]= 0\n",
    "print(arr)"
   ]
  },
  {
   "cell_type": "code",
   "execution_count": 64,
   "id": "dea58a35",
   "metadata": {},
   "outputs": [
    {
     "name": "stdout",
     "output_type": "stream",
     "text": [
      "Normalized data: [-1.41421356 -0.70710678  0.          0.70710678  1.41421356]\n"
     ]
    }
   ],
   "source": [
    "#STATISTICAL CONCEPTS - Normalization (mean 0, SD 1)\n",
    "\n",
    "#To have a mean of 0 and standard deviation of 1\n",
    "\n",
    "data = np.array([1,2,3,4,5])\n",
    "\n",
    "#Calculate the mean and standard deviation\n",
    "mean = np.mean(data)\n",
    "std_dev = np.std(data)\n",
    "\n",
    "#Normalize the data\n",
    "normalized_data = (data - mean) / std_dev\n",
    "print(\"Normalized data:\", normalized_data)\n",
    "\n"
   ]
  },
  {
   "cell_type": "code",
   "execution_count": 65,
   "id": "09ae90f0",
   "metadata": {},
   "outputs": [
    {
     "name": "stdout",
     "output_type": "stream",
     "text": [
      "5.5\n",
      "5.5\n",
      "2.8722813232690143\n",
      "8.25\n"
     ]
    }
   ],
   "source": [
    "#More:\n",
    "data = np.array([1, 2, 3, 4, 5, 6, 7, 8, 9, 10])\n",
    "\n",
    "mean = np.mean(data)\n",
    "print(mean)\n",
    "\n",
    "median = np.median(data)\n",
    "print(median)\n",
    "\n",
    "std_dev = np.std(data)\n",
    "print(std_dev)\n",
    "\n",
    "variance = np.var(data)\n",
    "print(variance)"
   ]
  },
  {
   "cell_type": "code",
   "execution_count": null,
   "id": "ed367c99",
   "metadata": {},
   "outputs": [],
   "source": []
  }
 ],
 "metadata": {
  "kernelspec": {
   "display_name": "Python 3",
   "language": "python",
   "name": "python3"
  },
  "language_info": {
   "codemirror_mode": {
    "name": "ipython",
    "version": 3
   },
   "file_extension": ".py",
   "mimetype": "text/x-python",
   "name": "python",
   "nbconvert_exporter": "python",
   "pygments_lexer": "ipython3",
   "version": "3.13.5"
  }
 },
 "nbformat": 4,
 "nbformat_minor": 5
}
